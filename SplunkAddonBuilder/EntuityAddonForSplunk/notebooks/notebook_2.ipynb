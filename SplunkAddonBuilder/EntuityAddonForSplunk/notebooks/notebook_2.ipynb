{
 "cells": [
  {
   "cell_type": "code",
   "execution_count": 1,
   "metadata": {},
   "outputs": [],
   "source": [
    "from xml.dom.minidom import parse"
   ]
  },
  {
   "cell_type": "code",
   "execution_count": 4,
   "metadata": {},
   "outputs": [
    {
     "ename": "ExpatError",
     "evalue": "XML declaration not well-formed: line 1, column 49",
     "output_type": "error",
     "traceback": [
      "\u001b[1;31m---------------------------------------------------------------------------\u001b[0m",
      "\u001b[1;31mExpatError\u001b[0m                                Traceback (most recent call last)",
      "Cell \u001b[1;32mIn [4], line 1\u001b[0m\n\u001b[1;32m----> 1\u001b[0m document \u001b[39m=\u001b[39m parse(\u001b[39m\"\u001b[39;49m\u001b[39m../data/flowData_1.xml\u001b[39;49m\u001b[39m\"\u001b[39;49m)\n",
      "File \u001b[1;32mc:\\Users\\Justin Chong\\AppData\\Local\\Programs\\Python\\Python310\\lib\\xml\\dom\\minidom.py:1988\u001b[0m, in \u001b[0;36mparse\u001b[1;34m(file, parser, bufsize)\u001b[0m\n\u001b[0;32m   1986\u001b[0m \u001b[39mif\u001b[39;00m parser \u001b[39mis\u001b[39;00m \u001b[39mNone\u001b[39;00m \u001b[39mand\u001b[39;00m \u001b[39mnot\u001b[39;00m bufsize:\n\u001b[0;32m   1987\u001b[0m     \u001b[39mfrom\u001b[39;00m \u001b[39mxml\u001b[39;00m\u001b[39m.\u001b[39;00m\u001b[39mdom\u001b[39;00m \u001b[39mimport\u001b[39;00m expatbuilder\n\u001b[1;32m-> 1988\u001b[0m     \u001b[39mreturn\u001b[39;00m expatbuilder\u001b[39m.\u001b[39;49mparse(file)\n\u001b[0;32m   1989\u001b[0m \u001b[39melse\u001b[39;00m:\n\u001b[0;32m   1990\u001b[0m     \u001b[39mfrom\u001b[39;00m \u001b[39mxml\u001b[39;00m\u001b[39m.\u001b[39;00m\u001b[39mdom\u001b[39;00m \u001b[39mimport\u001b[39;00m pulldom\n",
      "File \u001b[1;32mc:\\Users\\Justin Chong\\AppData\\Local\\Programs\\Python\\Python310\\lib\\xml\\dom\\expatbuilder.py:911\u001b[0m, in \u001b[0;36mparse\u001b[1;34m(file, namespaces)\u001b[0m\n\u001b[0;32m    909\u001b[0m \u001b[39mif\u001b[39;00m \u001b[39misinstance\u001b[39m(file, \u001b[39mstr\u001b[39m):\n\u001b[0;32m    910\u001b[0m     \u001b[39mwith\u001b[39;00m \u001b[39mopen\u001b[39m(file, \u001b[39m'\u001b[39m\u001b[39mrb\u001b[39m\u001b[39m'\u001b[39m) \u001b[39mas\u001b[39;00m fp:\n\u001b[1;32m--> 911\u001b[0m         result \u001b[39m=\u001b[39m builder\u001b[39m.\u001b[39;49mparseFile(fp)\n\u001b[0;32m    912\u001b[0m \u001b[39melse\u001b[39;00m:\n\u001b[0;32m    913\u001b[0m     result \u001b[39m=\u001b[39m builder\u001b[39m.\u001b[39mparseFile(file)\n",
      "File \u001b[1;32mc:\\Users\\Justin Chong\\AppData\\Local\\Programs\\Python\\Python310\\lib\\xml\\dom\\expatbuilder.py:207\u001b[0m, in \u001b[0;36mExpatBuilder.parseFile\u001b[1;34m(self, file)\u001b[0m\n\u001b[0;32m    205\u001b[0m \u001b[39mif\u001b[39;00m \u001b[39mnot\u001b[39;00m buffer:\n\u001b[0;32m    206\u001b[0m     \u001b[39mbreak\u001b[39;00m\n\u001b[1;32m--> 207\u001b[0m parser\u001b[39m.\u001b[39;49mParse(buffer, \u001b[39mFalse\u001b[39;49;00m)\n\u001b[0;32m    208\u001b[0m \u001b[39mif\u001b[39;00m first_buffer \u001b[39mand\u001b[39;00m \u001b[39mself\u001b[39m\u001b[39m.\u001b[39mdocument\u001b[39m.\u001b[39mdocumentElement:\n\u001b[0;32m    209\u001b[0m     \u001b[39mself\u001b[39m\u001b[39m.\u001b[39m_setup_subset(buffer)\n",
      "\u001b[1;31mExpatError\u001b[0m: XML declaration not well-formed: line 1, column 49"
     ]
    }
   ],
   "source": [
    "document = parse(\"../data/flowData_1.xml\")"
   ]
  },
  {
   "cell_type": "code",
   "execution_count": null,
   "metadata": {},
   "outputs": [],
   "source": []
  }
 ],
 "metadata": {
  "kernelspec": {
   "display_name": "Python 3",
   "language": "python",
   "name": "python3"
  },
  "language_info": {
   "codemirror_mode": {
    "name": "ipython",
    "version": 3
   },
   "file_extension": ".py",
   "mimetype": "text/x-python",
   "name": "python",
   "nbconvert_exporter": "python",
   "pygments_lexer": "ipython3",
   "version": "3.10.6"
  },
  "orig_nbformat": 4,
  "vscode": {
   "interpreter": {
    "hash": "1a6f82ba1b6aeaef8e8c0a00ddca96c81079a464df796276caea7baa85ea39b9"
   }
  }
 },
 "nbformat": 4,
 "nbformat_minor": 2
}
