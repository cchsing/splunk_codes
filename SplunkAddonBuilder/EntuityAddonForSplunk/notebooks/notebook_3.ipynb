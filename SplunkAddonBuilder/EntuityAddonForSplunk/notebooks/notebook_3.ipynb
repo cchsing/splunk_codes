{
 "cells": [
  {
   "cell_type": "code",
   "execution_count": 1,
   "metadata": {},
   "outputs": [],
   "source": [
    "import xml.etree.ElementTree as ET"
   ]
  },
  {
   "cell_type": "code",
   "execution_count": 6,
   "metadata": {},
   "outputs": [
    {
     "name": "stdout",
     "output_type": "stream",
     "text": [
      "<?xml version=\"1.0\" encoding=\"UTF-8\"?>\n",
      "<ns2:flowHistoryResult xmlns:ns2=\"https://www.entuity.com/schemas/flow\">     \n",
      "  <sampleSet> \n",
      "    <sample rate=\"9323.48\" timestamp=\"1507541700\" volume=\"2797044\"/>\n",
      "    <sample rate=\"12137.806666666667\" timestamp=\"1507542000\" volume=\"3641342\"/>\n",
      "    <sample rate=\"9914.983333333334\" timestamp=\"1507542300\" volume=\"2974495\"/>\n",
      "    <sample rate=\"8400.313333333334\" timestamp=\"1507542600\" volume=\"2520094\"/>\n",
      "    <sample rate=\"8922.28\" timestamp=\"1507542900\" volume=\"2676684\"/>\n",
      "  </sampleSet>\n",
      "</ns2:flowHistoryResult>\n"
     ]
    }
   ],
   "source": [
    "with open(\"../data/flowData_1.xml\") as file:\n",
    "    xml_string = file.read()\n",
    "\n",
    "print(xml_string)"
   ]
  },
  {
   "cell_type": "code",
   "execution_count": 7,
   "metadata": {},
   "outputs": [],
   "source": [
    "document = ET.fromstring(xml_string)"
   ]
  },
  {
   "cell_type": "code",
   "execution_count": null,
   "metadata": {},
   "outputs": [],
   "source": []
  }
 ],
 "metadata": {
  "kernelspec": {
   "display_name": "Python 3",
   "language": "python",
   "name": "python3"
  },
  "language_info": {
   "codemirror_mode": {
    "name": "ipython",
    "version": 3
   },
   "file_extension": ".py",
   "mimetype": "text/x-python",
   "name": "python",
   "nbconvert_exporter": "python",
   "pygments_lexer": "ipython3",
   "version": "3.10.6"
  },
  "orig_nbformat": 4,
  "vscode": {
   "interpreter": {
    "hash": "1a6f82ba1b6aeaef8e8c0a00ddca96c81079a464df796276caea7baa85ea39b9"
   }
  }
 },
 "nbformat": 4,
 "nbformat_minor": 2
}
