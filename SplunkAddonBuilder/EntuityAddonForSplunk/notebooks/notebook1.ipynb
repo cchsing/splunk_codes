{
 "cells": [
  {
   "cell_type": "code",
   "execution_count": 1,
   "metadata": {},
   "outputs": [],
   "source": [
    "import xmltodict\n",
    "import json"
   ]
  },
  {
   "cell_type": "code",
   "execution_count": 26,
   "metadata": {},
   "outputs": [
    {
     "name": "stdout",
     "output_type": "stream",
     "text": [
      "{\n",
      "    \"ns2:flowHistoryResult\": {\n",
      "        \"@xmlns:ns2\": \"https://www.entuity.com/schemas/flow\",\n",
      "        \"sampleSet\": {\n",
      "            \"sample\": [\n",
      "                {\n",
      "                    \"@rate\": \"9323.48\",\n",
      "                    \"@timestamp\": \"1507541700\",\n",
      "                    \"@volume\": \"2797044\"\n",
      "                },\n",
      "                {\n",
      "                    \"@rate\": \"12137.806666666667\",\n",
      "                    \"@timestamp\": \"1507542000\",\n",
      "                    \"@volume\": \"3641342\"\n",
      "                },\n",
      "                {\n",
      "                    \"@rate\": \"9914.983333333334\",\n",
      "                    \"@timestamp\": \"1507542300\",\n",
      "                    \"@volume\": \"2974495\"\n",
      "                },\n",
      "                {\n",
      "                    \"@rate\": \"8400.313333333334\",\n",
      "                    \"@timestamp\": \"1507542600\",\n",
      "                    \"@volume\": \"2520094\"\n",
      "                },\n",
      "                {\n",
      "                    \"@rate\": \"8922.28\",\n",
      "                    \"@timestamp\": \"1507542900\",\n",
      "                    \"@volume\": \"2676684\"\n",
      "                }\n",
      "            ]\n",
      "        }\n",
      "    }\n",
      "}\n"
     ]
    }
   ],
   "source": [
    "device = 1\n",
    "with open(\"../data/flowData_1.xml\") as xml_file:\n",
    "    data_dict = xmltodict.parse(xml_input=xml_file.read())\n",
    "    json_data = json.dumps(data_dict, indent=4)\n",
    "print(json_data)\n",
    "# with open(\"../data/test.txt\") as text_file:\n",
    "#     print(text_file.read())"
   ]
  },
  {
   "cell_type": "code",
   "execution_count": 31,
   "metadata": {},
   "outputs": [
    {
     "name": "stdout",
     "output_type": "stream",
     "text": [
      "@rate=\"9323.48\",@timestamp=\"1507541700\",@volume=\"2797044\",device=\"1\"\n",
      "@rate=\"12137.806666666667\",@timestamp=\"1507542000\",@volume=\"3641342\",device=\"1\"\n",
      "@rate=\"9914.983333333334\",@timestamp=\"1507542300\",@volume=\"2974495\",device=\"1\"\n",
      "@rate=\"8400.313333333334\",@timestamp=\"1507542600\",@volume=\"2520094\",device=\"1\"\n",
      "@rate=\"8922.28\",@timestamp=\"1507542900\",@volume=\"2676684\",device=\"1\"\n"
     ]
    }
   ],
   "source": [
    "for sample in data_dict['ns2:flowHistoryResult']['sampleSet']['sample']:\n",
    "    outputList = [(f'{key}=\\\"{value}\\\"')\n",
    "                          for key, value in sample.items()]\n",
    "    outputString = \",\".join(map(str, outputList))\n",
    "    outputString += f',device=\\\"{device}\\\"'\n",
    "    print(outputString)"
   ]
  },
  {
   "cell_type": "code",
   "execution_count": 16,
   "metadata": {},
   "outputs": [
    {
     "name": "stdout",
     "output_type": "stream",
     "text": [
      "{\n",
      "    \"ns2:flowHistoryResult\": {\n",
      "        \"@xmlns:ns2\": \"https://www.entuity.com/schemas/flow\",\n",
      "        \"sampleSet\": [\n",
      "            {\n",
      "                \"key\": \"5\",\n",
      "                \"sample\": [\n",
      "                    {\n",
      "                        \"@rate\": \"5446.903333333334\",\n",
      "                        \"@timestamp\": \"1507543200\",\n",
      "                        \"@volume\": \"1634071\"\n",
      "                    },\n",
      "                    {\n",
      "                        \"@rate\": \"4787.08\",\n",
      "                        \"@timestamp\": \"1507543500\",\n",
      "                        \"@volume\": \"1436124\"\n",
      "                    }\n",
      "                ]\n",
      "            },\n",
      "            {\n",
      "                \"key\": \"7\",\n",
      "                \"sample\": [\n",
      "                    {\n",
      "                        \"@rate\": \"3815.54\",\n",
      "                        \"@timestamp\": \"1507543200\",\n",
      "                        \"@volume\": \"1144662\"\n",
      "                    },\n",
      "                    {\n",
      "                        \"@rate\": \"3208.3\",\n",
      "                        \"@timestamp\": \"1507543500\",\n",
      "                        \"@volume\": \"962490\"\n",
      "                    }\n",
      "                ]\n",
      "            }\n",
      "        ]\n",
      "    }\n",
      "}\n",
      "{'ns2:flowHistoryResult': {'@xmlns:ns2': 'https://www.entuity.com/schemas/flow', 'sampleSet': [{'key': '5', 'sample': [{'@rate': '5446.903333333334', '@timestamp': '1507543200', '@volume': '1634071'}, {'@rate': '4787.08', '@timestamp': '1507543500', '@volume': '1436124'}]}, {'key': '7', 'sample': [{'@rate': '3815.54', '@timestamp': '1507543200', '@volume': '1144662'}, {'@rate': '3208.3', '@timestamp': '1507543500', '@volume': '962490'}]}]}}\n"
     ]
    }
   ],
   "source": [
    "with open(\"../data/flowData_2.xml\") as xml_file:\n",
    "    data_dict = xmltodict.parse(xml_input=xml_file.read())\n",
    "    json_data = json.dumps(data_dict, indent=4)\n",
    "print(json_data)\n",
    "print(data_dict)"
   ]
  },
  {
   "attachments": {},
   "cell_type": "markdown",
   "metadata": {},
   "source": [
    "The xmltodict module unable to parse the xml with the processing instruction."
   ]
  }
 ],
 "metadata": {
  "kernelspec": {
   "display_name": "Python 3",
   "language": "python",
   "name": "python3"
  },
  "language_info": {
   "codemirror_mode": {
    "name": "ipython",
    "version": 3
   },
   "file_extension": ".py",
   "mimetype": "text/x-python",
   "name": "python",
   "nbconvert_exporter": "python",
   "pygments_lexer": "ipython3",
   "version": "3.10.6 (tags/v3.10.6:9c7b4bd, Aug  1 2022, 21:53:49) [MSC v.1932 64 bit (AMD64)]"
  },
  "orig_nbformat": 4,
  "vscode": {
   "interpreter": {
    "hash": "1a6f82ba1b6aeaef8e8c0a00ddca96c81079a464df796276caea7baa85ea39b9"
   }
  }
 },
 "nbformat": 4,
 "nbformat_minor": 2
}
